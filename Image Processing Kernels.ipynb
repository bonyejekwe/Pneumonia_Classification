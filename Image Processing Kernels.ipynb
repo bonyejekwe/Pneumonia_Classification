{
 "cells": [
  {
   "cell_type": "code",
   "execution_count": 1,
   "id": "08774bfa",
   "metadata": {},
   "outputs": [],
   "source": [
    "import numpy as np"
   ]
  },
  {
   "cell_type": "code",
   "execution_count": 2,
   "id": "f2d4b861",
   "metadata": {},
   "outputs": [],
   "source": [
    "sharpen = np.array([[0, -1, 0], [-1, 5, -1], [0, -1, 0]])"
   ]
  },
  {
   "cell_type": "code",
   "execution_count": 3,
   "id": "4ede3f91",
   "metadata": {},
   "outputs": [],
   "source": [
    "gaussian_blur = np.array([ [0.0625, 0.125, 0.0625], [0.125,  0.25,  0.125], [0.0625, 0.125, 0.0625]])"
   ]
  },
  {
   "cell_type": "code",
   "execution_count": 4,
   "id": "90123df6",
   "metadata": {},
   "outputs": [],
   "source": [
    "edge_detection = np.array([[-1, -1, -1], [-1,  8, -1], [-1, -1, -1]])"
   ]
  }
 ],
 "metadata": {
  "kernelspec": {
   "display_name": "Python 3 (ipykernel)",
   "language": "python",
   "name": "python3"
  },
  "language_info": {
   "codemirror_mode": {
    "name": "ipython",
    "version": 3
   },
   "file_extension": ".py",
   "mimetype": "text/x-python",
   "name": "python",
   "nbconvert_exporter": "python",
   "pygments_lexer": "ipython3",
   "version": "3.9.7"
  }
 },
 "nbformat": 4,
 "nbformat_minor": 5
}
